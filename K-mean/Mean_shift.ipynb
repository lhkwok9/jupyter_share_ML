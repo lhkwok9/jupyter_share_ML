{
 "cells": [
  {
   "cell_type": "code",
   "execution_count": 32,
   "metadata": {},
   "outputs": [],
   "source": [
    "import pandas as pd\n",
    "import numpy as np\n",
    "from sklearn.cluster import MeanShift\n",
    "from sklearn import preprocessing, svm\n",
    "from sklearn.model_selection import cross_validate, train_test_split\n",
    "import matplotlib.pyplot as plt\n",
    "from matplotlib import style\n",
    "%matplotlib notebook\n",
    "\n",
    "style.use('ggplot')"
   ]
  },
  {
   "cell_type": "code",
   "execution_count": 33,
   "metadata": {},
   "outputs": [],
   "source": [
    "df = pd.read_excel(\"titanic.xls\")\n",
    "o_df = pd.DataFrame.copy(df)\n",
    "df.drop(['body', 'name'], 1, inplace=True)\n",
    "df._convert(numeric=True)\n",
    "df.fillna(0, inplace=True)"
   ]
  },
  {
   "cell_type": "code",
   "execution_count": 34,
   "metadata": {},
   "outputs": [],
   "source": [
    "def handle_non_numerical_data(df):\n",
    "    columns = df.columns.values\n",
    "    \n",
    "    for column in columns:\n",
    "        text = {}\n",
    "        def convert_to_int(val):\n",
    "            return text[val]\n",
    "        \n",
    "        if df[column].dtype != np.int64 and df[column].dtype != np.float64:\n",
    "            column_contents = df[column].values.tolist()\n",
    "            unique_elements = set(column_contents)\n",
    "            x = 0\n",
    "            for unique in unique_elements:\n",
    "                if unique not in text:\n",
    "                    text[unique] = x\n",
    "                    x+=1\n",
    "            df[column] = list(map(convert_to_int, df[column]))   #set list map\n",
    "            \n",
    "    return df"
   ]
  },
  {
   "cell_type": "code",
   "execution_count": 35,
   "metadata": {},
   "outputs": [
    {
     "data": {
      "text/plain": [
       "MeanShift()"
      ]
     },
     "execution_count": 35,
     "metadata": {},
     "output_type": "execute_result"
    }
   ],
   "source": [
    "df = handle_non_numerical_data(df)\n",
    "\n",
    "x = np.array(df.drop(['survived'], 1).astype(float))\n",
    "x = preprocessing.scale(x) #important\n",
    "y = np.array(df['survived'])\n",
    "\n",
    "clf = MeanShift()\n",
    "clf.fit(x)"
   ]
  },
  {
   "cell_type": "code",
   "execution_count": 36,
   "metadata": {},
   "outputs": [],
   "source": [
    "labels = clf.labels_\n",
    "cluster_centers = clf.cluster_centers_"
   ]
  },
  {
   "cell_type": "code",
   "execution_count": 37,
   "metadata": {
    "scrolled": true
   },
   "outputs": [
    {
     "name": "stdout",
     "output_type": "stream",
     "text": [
      "{0: 0.3822825219473264, 1: 0.08333333333333333, 2: 0.8181818181818182, 3: 0.1}\n"
     ]
    },
    {
     "name": "stderr",
     "output_type": "stream",
     "text": [
      "C:\\Users\\s2007\\anaconda3\\lib\\site-packages\\pandas\\core\\indexing.py:671: SettingWithCopyWarning: \n",
      "A value is trying to be set on a copy of a slice from a DataFrame\n",
      "\n",
      "See the caveats in the documentation: https://pandas.pydata.org/pandas-docs/stable/user_guide/indexing.html#returning-a-view-versus-a-copy\n",
      "  self._setitem_with_indexer(indexer, value)\n"
     ]
    }
   ],
   "source": [
    "o_df['cluster_gp'] = np.nan\n",
    "\n",
    "for i in range(len(x)):\n",
    "    o_df['cluster_gp'].iloc[i] = labels[i]\n",
    "    \n",
    "    \n",
    "n_clusters_ = len(np.unique(labels))\n",
    "survival_rates = {}\n",
    "for i in range(n_clusters_):\n",
    "    temp_df = o_df[ (o_df['cluster_gp']==float(i)) ]\n",
    "    survival_cluster = temp_df[ (temp_df['survived']==1) ]\n",
    "    survival_rate = len(survival_cluster) / len(temp_df)\n",
    "    survival_rates[i] = survival_rate\n",
    "print(survival_rates)"
   ]
  },
  {
   "cell_type": "code",
   "execution_count": 47,
   "metadata": {},
   "outputs": [
    {
     "name": "stdout",
     "output_type": "stream",
     "text": [
      "            pclass     survived          sex          age        sibsp  \\\n",
      "count  1253.000000  1253.000000  1253.000000  1253.000000  1253.000000   \n",
      "mean      2.298484     0.382283     0.346369    23.943469     0.386273   \n",
      "std       0.830897     0.486139     0.476002    17.528302     0.707696   \n",
      "min       1.000000     0.000000     0.000000     0.000000     0.000000   \n",
      "25%       2.000000     0.000000     0.000000     8.000000     0.000000   \n",
      "50%       3.000000     0.000000     0.000000    24.000000     0.000000   \n",
      "75%       3.000000     1.000000     1.000000    35.000000     1.000000   \n",
      "max       3.000000     1.000000     1.000000    80.000000     4.000000   \n",
      "\n",
      "             parch       ticket         fare        cabin     embarked  \\\n",
      "count  1253.000000  1253.000000  1253.000000  1253.000000  1253.000000   \n",
      "mean      0.289705   466.311253    28.163324    20.672785     2.102155   \n",
      "std       0.635628   268.826997    36.241986    46.595824     0.544303   \n",
      "min       0.000000     0.000000     0.000000     0.000000     0.000000   \n",
      "25%       0.000000   227.000000     7.895800     0.000000     2.000000   \n",
      "50%       0.000000   473.000000    13.500000     0.000000     2.000000   \n",
      "75%       0.000000   694.000000    27.900000     0.000000     2.000000   \n",
      "max       4.000000   938.000000   227.525000   186.000000     3.000000   \n",
      "\n",
      "              boat    home.dest  \n",
      "count  1253.000000  1253.000000  \n",
      "mean      6.582602   110.782123  \n",
      "std       9.471190   128.223695  \n",
      "min       0.000000     0.000000  \n",
      "25%       0.000000     0.000000  \n",
      "50%       0.000000    49.000000  \n",
      "75%      14.000000   224.000000  \n",
      "max      28.000000   369.000000  \n"
     ]
    }
   ],
   "source": [
    "print(o_df[ (o_df['cluster_gp']==0) ].describe())"
   ]
  },
  {
   "cell_type": "code",
   "execution_count": null,
   "metadata": {},
   "outputs": [],
   "source": []
  },
  {
   "cell_type": "code",
   "execution_count": null,
   "metadata": {},
   "outputs": [],
   "source": []
  }
 ],
 "metadata": {
  "kernelspec": {
   "display_name": "Python 3",
   "language": "python",
   "name": "python3"
  },
  "language_info": {
   "codemirror_mode": {
    "name": "ipython",
    "version": 3
   },
   "file_extension": ".py",
   "mimetype": "text/x-python",
   "name": "python",
   "nbconvert_exporter": "python",
   "pygments_lexer": "ipython3",
   "version": "3.7.6"
  }
 },
 "nbformat": 4,
 "nbformat_minor": 4
}
