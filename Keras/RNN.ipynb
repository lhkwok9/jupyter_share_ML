{
 "cells": [
  {
   "cell_type": "code",
   "execution_count": 11,
   "metadata": {},
   "outputs": [],
   "source": [
    "import tensorflow as tf\n",
    "from tensorflow.keras.models import Sequential\n",
    "from tensorflow.keras.layers import Dense, Dropout\n",
    "from tensorflow.compat.v1.keras.layers import CuDNNLSTM\n",
    "import numpy as np"
   ]
  },
  {
   "cell_type": "code",
   "execution_count": 12,
   "metadata": {},
   "outputs": [],
   "source": [
    "mnist = tf.keras.datasets.mnist\n",
    "(x_train, y_train), (x_test, y_test) = mnist.load_data()"
   ]
  },
  {
   "cell_type": "code",
   "execution_count": 13,
   "metadata": {},
   "outputs": [
    {
     "name": "stdout",
     "output_type": "stream",
     "text": [
      "(60000, 28, 28) (28, 28)\n"
     ]
    }
   ],
   "source": [
    "print(x_train.shape, x_train[0].shape)"
   ]
  },
  {
   "cell_type": "code",
   "execution_count": 14,
   "metadata": {},
   "outputs": [
    {
     "name": "stdout",
     "output_type": "stream",
     "text": [
      "Train on 60000 samples, validate on 10000 samples\n",
      "Epoch 1/10\n",
      "60000/60000 [==============================] - 22s 368us/sample - loss: 0.5296 - accuracy: 0.8420 - val_loss: 0.1478 - val_accuracy: 0.9630\n",
      "Epoch 2/10\n",
      "60000/60000 [==============================] - 20s 327us/sample - loss: 0.1719 - accuracy: 0.9586 - val_loss: 0.1040 - val_accuracy: 0.9749\n",
      "Epoch 3/10\n",
      "60000/60000 [==============================] - 19s 312us/sample - loss: 0.1212 - accuracy: 0.9715 - val_loss: 0.0936 - val_accuracy: 0.9804\n",
      "Epoch 4/10\n",
      "60000/60000 [==============================] - 19s 318us/sample - loss: 0.0998 - accuracy: 0.9775 - val_loss: 0.0656 - val_accuracy: 0.9865\n",
      "Epoch 5/10\n",
      "60000/60000 [==============================] - 19s 311us/sample - loss: 0.0844 - accuracy: 0.9809 - val_loss: 0.0891 - val_accuracy: 0.9830\n",
      "Epoch 6/10\n",
      "60000/60000 [==============================] - 19s 310us/sample - loss: 0.0779 - accuracy: 0.9835 - val_loss: 0.0773 - val_accuracy: 0.9862\n",
      "Epoch 7/10\n",
      "60000/60000 [==============================] - 19s 322us/sample - loss: 0.0713 - accuracy: 0.9847 - val_loss: 0.0594 - val_accuracy: 0.9882\n",
      "Epoch 8/10\n",
      "60000/60000 [==============================] - 19s 325us/sample - loss: 0.0661 - accuracy: 0.9865 - val_loss: 0.0818 - val_accuracy: 0.9848\n",
      "Epoch 9/10\n",
      "60000/60000 [==============================] - 17s 287us/sample - loss: 0.0657 - accuracy: 0.9869 - val_loss: 0.1021 - val_accuracy: 0.9865\n",
      "Epoch 10/10\n",
      "60000/60000 [==============================] - 19s 316us/sample - loss: 0.0595 - accuracy: 0.9879 - val_loss: 0.0734 - val_accuracy: 0.9864\n"
     ]
    },
    {
     "data": {
      "text/plain": [
       "<tensorflow.python.keras.callbacks.History at 0x2a8030b8c08>"
      ]
     },
     "execution_count": 14,
     "metadata": {},
     "output_type": "execute_result"
    }
   ],
   "source": [
    "gpu_options = tf.compat.v1.GPUOptions(per_process_gpu_memory_fraction=0.4)\n",
    "sess = tf.compat.v1.Session(config=tf.compat.v1.ConfigProto(gpu_options=gpu_options))\n",
    "\n",
    "x_train = np.array(x_train/255.0)\n",
    "x_test = np.array(x_test/255.0)\n",
    "\n",
    "model = Sequential()\n",
    "\n",
    "model.add(CuDNNLSTM(128, input_shape=(x_train.shape[1:]), return_sequences=True))\n",
    "model.add(Dropout(0.2))\n",
    "\n",
    "model.add(CuDNNLSTM(128))\n",
    "model.add(Dropout(0.2))\n",
    "\n",
    "model.add(Dense(32, activation='relu'))\n",
    "model.add(Dropout(0.4))\n",
    "\n",
    "model.add(Dense(10, activation='softmax'))\n",
    "\n",
    "opt = tf.keras.optimizers.Adam(lr=1e-3, decay=1e-5)\n",
    "\n",
    "model.compile(loss='sparse_categorical_crossentropy', optimizers=opt, metrics=['accuracy'])\n",
    "\n",
    "model.fit(x_train, y_train, epochs=10, validation_data=(x_test, y_test))"
   ]
  },
  {
   "cell_type": "code",
   "execution_count": null,
   "metadata": {},
   "outputs": [],
   "source": []
  }
 ],
 "metadata": {
  "kernelspec": {
   "display_name": "Py 3.7 tensorflow-gpu",
   "language": "python",
   "name": "tensorflow-gpu"
  },
  "language_info": {
   "codemirror_mode": {
    "name": "ipython",
    "version": 3
   },
   "file_extension": ".py",
   "mimetype": "text/x-python",
   "name": "python",
   "nbconvert_exporter": "python",
   "pygments_lexer": "ipython3",
   "version": "3.7.7"
  }
 },
 "nbformat": 4,
 "nbformat_minor": 4
}
